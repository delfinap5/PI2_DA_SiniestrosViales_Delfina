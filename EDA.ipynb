{
 "cells": [
  {
   "cell_type": "code",
   "execution_count": 1,
   "metadata": {},
   "outputs": [],
   "source": [
    "import pandas as pd"
   ]
  },
  {
   "cell_type": "code",
   "execution_count": 3,
   "metadata": {},
   "outputs": [],
   "source": [
    "\n",
    "# Cargo la ruta del archivo 'homicidios.csv'\n",
    "homicidios = pd.read_csv('datasets/homicidios.csv')\n",
    "\n",
    "# Crear un DataFrame\n",
    "df_homicidios = pd.DataFrame(homicidios)\n",
    "\n",
    "# Eliminar asteriscos en todo el DataFrame\n",
    "df_homicidios.replace('*', '', inplace=True)\n",
    "\n",
    "# Guardar el DataFrame modificado\n",
    "df_homicidios.to_csv('datasets/homicidios.csv', index=False)"
   ]
  }
 ],
 "metadata": {
  "kernelspec": {
   "display_name": "Python 3",
   "language": "python",
   "name": "python3"
  },
  "language_info": {
   "codemirror_mode": {
    "name": "ipython",
    "version": 3
   },
   "file_extension": ".py",
   "mimetype": "text/x-python",
   "name": "python",
   "nbconvert_exporter": "python",
   "pygments_lexer": "ipython3",
   "version": "3.10.0"
  }
 },
 "nbformat": 4,
 "nbformat_minor": 2
}
