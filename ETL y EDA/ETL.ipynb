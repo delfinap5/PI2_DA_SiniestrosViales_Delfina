{
 "cells": [
  {
   "cell_type": "markdown",
   "metadata": {},
   "source": [
    "# ETL"
   ]
  },
  {
   "cell_type": "code",
   "execution_count": 44,
   "metadata": {},
   "outputs": [],
   "source": [
    "# Importo las librerias que usaré\n",
    "import pandas as pd\n",
    "import numpy as numpy\n",
    "import matplotlib.pyplot as plt\n",
    "import seaborn as sns"
   ]
  },
  {
   "cell_type": "code",
   "execution_count": 45,
   "metadata": {},
   "outputs": [],
   "source": [
    "# Cargo ruta de la data\n",
    "homicidios_excel = 'F:\\BACKUP 2023\\Delfina\\PI2_DA_SiniestrosViales_Delfina\\datasets\\homicidios.xlsx'"
   ]
  },
  {
   "cell_type": "code",
   "execution_count": 46,
   "metadata": {},
   "outputs": [],
   "source": [
    "# Cargo el archivo de Excel en un DataFrame de Pandas\n",
    "df_homicidios = pd.read_excel(homicidios_excel)"
   ]
  },
  {
   "cell_type": "code",
   "execution_count": 3,
   "metadata": {},
   "outputs": [
    {
     "data": {
      "text/html": [
       "<div>\n",
       "<style scoped>\n",
       "    .dataframe tbody tr th:only-of-type {\n",
       "        vertical-align: middle;\n",
       "    }\n",
       "\n",
       "    .dataframe tbody tr th {\n",
       "        vertical-align: top;\n",
       "    }\n",
       "\n",
       "    .dataframe thead th {\n",
       "        text-align: right;\n",
       "    }\n",
       "</style>\n",
       "<table border=\"1\" class=\"dataframe\">\n",
       "  <thead>\n",
       "    <tr style=\"text-align: right;\">\n",
       "      <th></th>\n",
       "      <th>ID</th>\n",
       "      <th>N_VICTIMAS</th>\n",
       "      <th>FECHA</th>\n",
       "      <th>AAAA</th>\n",
       "      <th>MM</th>\n",
       "      <th>DD</th>\n",
       "      <th>HORA</th>\n",
       "      <th>HH</th>\n",
       "      <th>LUGAR_DEL_HECHO</th>\n",
       "      <th>TIPO_DE_CALLE</th>\n",
       "      <th>...</th>\n",
       "      <th>ALTURA</th>\n",
       "      <th>CRUCE</th>\n",
       "      <th>DIRECCIÓN NORMALIZADA</th>\n",
       "      <th>COMUNA</th>\n",
       "      <th>XY (CABA)</th>\n",
       "      <th>POS X</th>\n",
       "      <th>POS Y</th>\n",
       "      <th>PARTICIPANTES</th>\n",
       "      <th>VICTIMA</th>\n",
       "      <th>ACUSADO</th>\n",
       "    </tr>\n",
       "  </thead>\n",
       "  <tbody>\n",
       "    <tr>\n",
       "      <th>0</th>\n",
       "      <td>2016-0001</td>\n",
       "      <td>1</td>\n",
       "      <td>01/01/2016</td>\n",
       "      <td>2016</td>\n",
       "      <td>1</td>\n",
       "      <td>1</td>\n",
       "      <td>04:00:00</td>\n",
       "      <td>4</td>\n",
       "      <td>AV PIEDRA BUENA Y AV FERNANDEZ DE LA CRUZ</td>\n",
       "      <td>AVENIDA</td>\n",
       "      <td>...</td>\n",
       "      <td>SD</td>\n",
       "      <td>FERNANDEZ DE LA CRUZ, F., GRAL. AV.</td>\n",
       "      <td>PIEDRA BUENA AV. Y FERNANDEZ DE LA CRUZ, F., G...</td>\n",
       "      <td>8</td>\n",
       "      <td>POINT (98896.78238426 93532.43437792)</td>\n",
       "      <td>-58.47533969</td>\n",
       "      <td>-34.68757022</td>\n",
       "      <td>MOTO-AUTO</td>\n",
       "      <td>MOTO</td>\n",
       "      <td>AUTO</td>\n",
       "    </tr>\n",
       "    <tr>\n",
       "      <th>1</th>\n",
       "      <td>2016-0002</td>\n",
       "      <td>1</td>\n",
       "      <td>02/01/2016</td>\n",
       "      <td>2016</td>\n",
       "      <td>1</td>\n",
       "      <td>2</td>\n",
       "      <td>01:15:00</td>\n",
       "      <td>1</td>\n",
       "      <td>AV GRAL PAZ  Y AV DE LOS CORRALES</td>\n",
       "      <td>GRAL PAZ</td>\n",
       "      <td>...</td>\n",
       "      <td>SD</td>\n",
       "      <td>DE LOS CORRALES AV.</td>\n",
       "      <td>PAZ, GRAL. AV. Y DE LOS CORRALES AV.</td>\n",
       "      <td>9</td>\n",
       "      <td>POINT (95832.05571093 95505.41641999)</td>\n",
       "      <td>-58.50877521</td>\n",
       "      <td>-34.66977709</td>\n",
       "      <td>AUTO-PASAJEROS</td>\n",
       "      <td>AUTO</td>\n",
       "      <td>PASAJEROS</td>\n",
       "    </tr>\n",
       "    <tr>\n",
       "      <th>2</th>\n",
       "      <td>2016-0003</td>\n",
       "      <td>1</td>\n",
       "      <td>03/01/2016</td>\n",
       "      <td>2016</td>\n",
       "      <td>1</td>\n",
       "      <td>3</td>\n",
       "      <td>07:00:00</td>\n",
       "      <td>7</td>\n",
       "      <td>AV ENTRE RIOS 2034</td>\n",
       "      <td>AVENIDA</td>\n",
       "      <td>...</td>\n",
       "      <td>2034</td>\n",
       "      <td>SD</td>\n",
       "      <td>ENTRE RIOS AV. 2034</td>\n",
       "      <td>1</td>\n",
       "      <td>POINT (106684.29090040 99706.57687843)</td>\n",
       "      <td>-58.39040293</td>\n",
       "      <td>-34.63189362</td>\n",
       "      <td>MOTO-AUTO</td>\n",
       "      <td>MOTO</td>\n",
       "      <td>AUTO</td>\n",
       "    </tr>\n",
       "    <tr>\n",
       "      <th>3</th>\n",
       "      <td>2016-0004</td>\n",
       "      <td>1</td>\n",
       "      <td>10/01/2016</td>\n",
       "      <td>2016</td>\n",
       "      <td>1</td>\n",
       "      <td>10</td>\n",
       "      <td>00:00:00</td>\n",
       "      <td>0</td>\n",
       "      <td>AV LARRAZABAL Y GRAL VILLEGAS CONRADO</td>\n",
       "      <td>AVENIDA</td>\n",
       "      <td>...</td>\n",
       "      <td>SD</td>\n",
       "      <td>VILLEGAS, CONRADO, GRAL.</td>\n",
       "      <td>LARRAZABAL AV. Y VILLEGAS, CONRADO, GRAL.</td>\n",
       "      <td>8</td>\n",
       "      <td>POINT (99840.65224780 94269.16534422)</td>\n",
       "      <td>-58.46503904</td>\n",
       "      <td>-34.68092974</td>\n",
       "      <td>MOTO-SD</td>\n",
       "      <td>MOTO</td>\n",
       "      <td>SD</td>\n",
       "    </tr>\n",
       "    <tr>\n",
       "      <th>4</th>\n",
       "      <td>2016-0005</td>\n",
       "      <td>1</td>\n",
       "      <td>21/01/2016</td>\n",
       "      <td>2016</td>\n",
       "      <td>1</td>\n",
       "      <td>21</td>\n",
       "      <td>05:20:00</td>\n",
       "      <td>5</td>\n",
       "      <td>AV SAN JUAN Y PRESIDENTE LUIS SAENZ PEÑA</td>\n",
       "      <td>AVENIDA</td>\n",
       "      <td>...</td>\n",
       "      <td>SD</td>\n",
       "      <td>SAENZ PE?A, LUIS, PRES.</td>\n",
       "      <td>SAN JUAN AV. Y SAENZ PEÃ‘A, LUIS, PRES.</td>\n",
       "      <td>1</td>\n",
       "      <td>POINT (106980.32827929 100752.16915795)</td>\n",
       "      <td>-58.38718297</td>\n",
       "      <td>-34.6224663</td>\n",
       "      <td>MOTO-PASAJEROS</td>\n",
       "      <td>MOTO</td>\n",
       "      <td>PASAJEROS</td>\n",
       "    </tr>\n",
       "  </tbody>\n",
       "</table>\n",
       "<p>5 rows × 21 columns</p>\n",
       "</div>"
      ],
      "text/plain": [
       "          ID  N_VICTIMAS       FECHA  AAAA  MM  DD      HORA HH  \\\n",
       "0  2016-0001           1  01/01/2016  2016   1   1  04:00:00  4   \n",
       "1  2016-0002           1  02/01/2016  2016   1   2  01:15:00  1   \n",
       "2  2016-0003           1  03/01/2016  2016   1   3  07:00:00  7   \n",
       "3  2016-0004           1  10/01/2016  2016   1  10  00:00:00  0   \n",
       "4  2016-0005           1  21/01/2016  2016   1  21  05:20:00  5   \n",
       "\n",
       "                             LUGAR_DEL_HECHO TIPO_DE_CALLE  ... ALTURA  \\\n",
       "0  AV PIEDRA BUENA Y AV FERNANDEZ DE LA CRUZ       AVENIDA  ...     SD   \n",
       "1          AV GRAL PAZ  Y AV DE LOS CORRALES      GRAL PAZ  ...     SD   \n",
       "2                         AV ENTRE RIOS 2034       AVENIDA  ...   2034   \n",
       "3      AV LARRAZABAL Y GRAL VILLEGAS CONRADO       AVENIDA  ...     SD   \n",
       "4  AV SAN JUAN Y PRESIDENTE LUIS SAENZ PEÑA        AVENIDA  ...     SD   \n",
       "\n",
       "                                 CRUCE  \\\n",
       "0  FERNANDEZ DE LA CRUZ, F., GRAL. AV.   \n",
       "1                  DE LOS CORRALES AV.   \n",
       "2                                   SD   \n",
       "3             VILLEGAS, CONRADO, GRAL.   \n",
       "4              SAENZ PE?A, LUIS, PRES.   \n",
       "\n",
       "                               DIRECCIÓN NORMALIZADA COMUNA  \\\n",
       "0  PIEDRA BUENA AV. Y FERNANDEZ DE LA CRUZ, F., G...      8   \n",
       "1               PAZ, GRAL. AV. Y DE LOS CORRALES AV.      9   \n",
       "2                                ENTRE RIOS AV. 2034      1   \n",
       "3          LARRAZABAL AV. Y VILLEGAS, CONRADO, GRAL.      8   \n",
       "4            SAN JUAN AV. Y SAENZ PEÃ‘A, LUIS, PRES.      1   \n",
       "\n",
       "                                 XY (CABA)         POS X         POS Y  \\\n",
       "0    POINT (98896.78238426 93532.43437792)  -58.47533969  -34.68757022   \n",
       "1    POINT (95832.05571093 95505.41641999)  -58.50877521  -34.66977709   \n",
       "2   POINT (106684.29090040 99706.57687843)  -58.39040293  -34.63189362   \n",
       "3    POINT (99840.65224780 94269.16534422)  -58.46503904  -34.68092974   \n",
       "4  POINT (106980.32827929 100752.16915795)  -58.38718297   -34.6224663   \n",
       "\n",
       "    PARTICIPANTES VICTIMA    ACUSADO  \n",
       "0       MOTO-AUTO    MOTO       AUTO  \n",
       "1  AUTO-PASAJEROS    AUTO  PASAJEROS  \n",
       "2       MOTO-AUTO    MOTO       AUTO  \n",
       "3         MOTO-SD    MOTO         SD  \n",
       "4  MOTO-PASAJEROS    MOTO  PASAJEROS  \n",
       "\n",
       "[5 rows x 21 columns]"
      ]
     },
     "execution_count": 3,
     "metadata": {},
     "output_type": "execute_result"
    }
   ],
   "source": [
    "# Visualizo el df_homicidios para saber que debo transformar y/o limpiar\n",
    "df_homicidios.head()"
   ]
  },
  {
   "cell_type": "code",
   "execution_count": 4,
   "metadata": {},
   "outputs": [
    {
     "name": "stdout",
     "output_type": "stream",
     "text": [
      "<class 'pandas.core.frame.DataFrame'>\n",
      "RangeIndex: 696 entries, 0 to 695\n",
      "Data columns (total 21 columns):\n",
      " #   Column                 Non-Null Count  Dtype \n",
      "---  ------                 --------------  ----- \n",
      " 0   ID                     696 non-null    object\n",
      " 1   N_VICTIMAS             696 non-null    int64 \n",
      " 2   FECHA                  696 non-null    object\n",
      " 3   AAAA                   696 non-null    int64 \n",
      " 4   MM                     696 non-null    int64 \n",
      " 5   DD                     696 non-null    int64 \n",
      " 6   HORA                   694 non-null    object\n",
      " 7   HH                     696 non-null    object\n",
      " 8   LUGAR_DEL_HECHO        696 non-null    object\n",
      " 9   TIPO_DE_CALLE          696 non-null    object\n",
      " 10  CALLE                  696 non-null    object\n",
      " 11  ALTURA                 696 non-null    object\n",
      " 12  CRUCE                  696 non-null    object\n",
      " 13  DIRECCIÓN NORMALIZADA  696 non-null    object\n",
      " 14  COMUNA                 696 non-null    int64 \n",
      " 15  XY (CABA)              696 non-null    object\n",
      " 16  POS X                  696 non-null    object\n",
      " 17  POS Y                  696 non-null    object\n",
      " 18  PARTICIPANTES          696 non-null    object\n",
      " 19  VICTIMA                696 non-null    object\n",
      " 20  ACUSADO                696 non-null    object\n",
      "dtypes: int64(5), object(16)\n",
      "memory usage: 114.3+ KB\n"
     ]
    }
   ],
   "source": [
    "df_homicidios.info()"
   ]
  },
  {
   "cell_type": "markdown",
   "metadata": {},
   "source": [
    "Voy a cambiar todas las columnas que contengan valores de tipo 'str' a letras mayúsculas. Además, eliminaré duplicados, si existen, y eliminaré las filas que contengan valores nulos en todas las columnas. Reemplazaré los valores nulos en todas las columnas por 'SD', eliminaré las tildes en los datos str y finalmente cambiaré el tipo de dato de algunas columnas."
   ]
  },
  {
   "cell_type": "markdown",
   "metadata": {},
   "source": [
    "---"
   ]
  },
  {
   "cell_type": "markdown",
   "metadata": {},
   "source": [
    "### Cambiar todas las columnas que contengan valores de tipo 'str' a letras mayúsculas"
   ]
  },
  {
   "cell_type": "code",
   "execution_count": 5,
   "metadata": {},
   "outputs": [],
   "source": [
    "# Convertir todas las columnas a mayúsculas\n",
    "df_homicidios = df_homicidios.applymap(lambda x: x.upper() if isinstance(x, str) else x)\n",
    "\n",
    "# Convertir los nombres de las columnas a mayúsculas\n",
    "df_homicidios.columns = df_homicidios.columns.str.upper()"
   ]
  },
  {
   "cell_type": "code",
   "execution_count": 6,
   "metadata": {},
   "outputs": [
    {
     "data": {
      "text/plain": [
       "Index(['ID', 'N_VICTIMAS', 'FECHA', 'AAAA', 'MM', 'DD', 'HORA', 'HH',\n",
       "       'LUGAR_DEL_HECHO', 'TIPO_DE_CALLE', 'CALLE', 'ALTURA', 'CRUCE',\n",
       "       'DIRECCIÓN NORMALIZADA', 'COMUNA', 'XY (CABA)', 'POS X', 'POS Y',\n",
       "       'PARTICIPANTES', 'VICTIMA', 'ACUSADO'],\n",
       "      dtype='object')"
      ]
     },
     "execution_count": 6,
     "metadata": {},
     "output_type": "execute_result"
    }
   ],
   "source": [
    "df_homicidios.columns"
   ]
  },
  {
   "cell_type": "markdown",
   "metadata": {},
   "source": [
    "---"
   ]
  },
  {
   "cell_type": "markdown",
   "metadata": {},
   "source": [
    "### Observo si hay valores duplicados, de ser así los elimino"
   ]
  },
  {
   "cell_type": "code",
   "execution_count": 7,
   "metadata": {},
   "outputs": [
    {
     "name": "stdout",
     "output_type": "stream",
     "text": [
      "Empty DataFrame\n",
      "Columns: [ID, N_VICTIMAS, FECHA, AAAA, MM, DD, HORA, HH, LUGAR_DEL_HECHO, TIPO_DE_CALLE, CALLE, ALTURA, CRUCE, DIRECCIÓN NORMALIZADA, COMUNA, XY (CABA), POS X, POS Y, PARTICIPANTES, VICTIMA, ACUSADO]\n",
      "Index: []\n",
      "\n",
      "[0 rows x 21 columns]\n"
     ]
    }
   ],
   "source": [
    "# Identifico filas duplicadas basadas en todas las columnas\n",
    "duplicados_columns = df_homicidios[df_homicidios.duplicated(subset=['ID', 'N_VICTIMAS', 'FECHA', 'AAAA', 'MM', 'DD', 'HORA', 'HH',\n",
    "       'LUGAR_DEL_HECHO', 'TIPO_DE_CALLE', 'CALLE', 'ALTURA', 'CRUCE',\n",
    "       'DIRECCIÓN NORMALIZADA', 'COMUNA', 'XY (CABA)', 'POS X', 'POS Y',\n",
    "       'PARTICIPANTES', 'VICTIMA', 'ACUSADO'])]\n",
    "\n",
    "# Mostrar las filas duplicadas\n",
    "print(duplicados_columns)"
   ]
  },
  {
   "cell_type": "markdown",
   "metadata": {},
   "source": [
    "No hay duplicados"
   ]
  },
  {
   "cell_type": "markdown",
   "metadata": {},
   "source": [
    "---"
   ]
  },
  {
   "cell_type": "markdown",
   "metadata": {},
   "source": [
    "### Observo si hay valores nulos, de ser así los elimino"
   ]
  },
  {
   "cell_type": "code",
   "execution_count": 8,
   "metadata": {},
   "outputs": [
    {
     "name": "stdout",
     "output_type": "stream",
     "text": [
      "ID                       False\n",
      "N_VICTIMAS               False\n",
      "FECHA                    False\n",
      "AAAA                     False\n",
      "MM                       False\n",
      "DD                       False\n",
      "HORA                      True\n",
      "HH                       False\n",
      "LUGAR_DEL_HECHO          False\n",
      "TIPO_DE_CALLE            False\n",
      "CALLE                    False\n",
      "ALTURA                   False\n",
      "CRUCE                    False\n",
      "DIRECCIÓN NORMALIZADA    False\n",
      "COMUNA                   False\n",
      "XY (CABA)                False\n",
      "POS X                    False\n",
      "POS Y                    False\n",
      "PARTICIPANTES            False\n",
      "VICTIMA                  False\n",
      "ACUSADO                  False\n",
      "dtype: bool\n"
     ]
    }
   ],
   "source": [
    "# Verifico si hay valores nulos en todo el DataFrame\n",
    "valores_nulos = df_homicidios.isnull().any()\n",
    "\n",
    "# Mostrar qué columnas tienen valores nulos\n",
    "print(valores_nulos)"
   ]
  },
  {
   "cell_type": "markdown",
   "metadata": {},
   "source": [
    "Hay valores nulos, procedo a eliminarlos"
   ]
  },
  {
   "cell_type": "code",
   "execution_count": 9,
   "metadata": {},
   "outputs": [],
   "source": [
    "# Elimino filas completamente nulas\n",
    "df_homicidios.dropna(how='all', inplace=True)"
   ]
  },
  {
   "cell_type": "markdown",
   "metadata": {},
   "source": [
    "---"
   ]
  },
  {
   "cell_type": "markdown",
   "metadata": {},
   "source": [
    "### Reemplazo los valores null por 'SD' (SInDato)"
   ]
  },
  {
   "cell_type": "code",
   "execution_count": 10,
   "metadata": {},
   "outputs": [],
   "source": [
    "# Reemplazar los valores nulos de cada columna por 'SD'\n",
    "df_homicidios = df_homicidios.fillna(value='SD')"
   ]
  },
  {
   "cell_type": "markdown",
   "metadata": {},
   "source": [
    "---"
   ]
  },
  {
   "cell_type": "markdown",
   "metadata": {},
   "source": [
    "### Elimino asteriscos y tildes de toda la tabla"
   ]
  },
  {
   "cell_type": "code",
   "execution_count": 11,
   "metadata": {},
   "outputs": [],
   "source": [
    "# Eliminar asteriscos en todo el DataFrame\n",
    "df_homicidios.replace('*', '', inplace=True)"
   ]
  },
  {
   "cell_type": "markdown",
   "metadata": {},
   "source": [
    "---"
   ]
  },
  {
   "cell_type": "markdown",
   "metadata": {},
   "source": [
    "### Cambio el tipo de dato"
   ]
  },
  {
   "cell_type": "code",
   "execution_count": 12,
   "metadata": {},
   "outputs": [],
   "source": [
    "# Cambio el tipo de la columna 'NOMBRE_DE_LA_COLUMNA' a objeto (cadena de texto)\n",
    "df_homicidios['HORA'] = df_homicidios['HORA'].astype(str)\n",
    "\n",
    "# Converto la columna 'HORA' a tipo cadena\n",
    "df_homicidios['HORA'] = df_homicidios['HORA'].astype(str)\n",
    "\n",
    "# Limpio la columna 'HORA' eliminando cualquier caracter no numérico\n",
    "df_homicidios['HORA'] = df_homicidios['HORA'].str.replace(r'[^0-9:]', '', regex=True)\n",
    "\n",
    "# Elimino filas con valores nulos en la columna 'HORA'\n",
    "df_homicidios = df_homicidios.dropna(subset=['HORA'])\n",
    "\n",
    "# Trato específicamente el valor \"1401190007:12\"\n",
    "df_homicidios['HORA'] = df_homicidios['HORA'].replace({'1401190007:12': '07:12:00', '0401190018:40': '18:40:00'})\n",
    "\n",
    "# Convierto la columna 'HORA' a tipo datetime y extraer solo la hora\n",
    "df_homicidios['HORA'] = pd.to_datetime(df_homicidios['HORA'], format='%H:%M:%S', errors='coerce').dt.time"
   ]
  },
  {
   "cell_type": "markdown",
   "metadata": {},
   "source": [
    "---"
   ]
  },
  {
   "cell_type": "code",
   "execution_count": 13,
   "metadata": {},
   "outputs": [
    {
     "data": {
      "text/html": [
       "<div>\n",
       "<style scoped>\n",
       "    .dataframe tbody tr th:only-of-type {\n",
       "        vertical-align: middle;\n",
       "    }\n",
       "\n",
       "    .dataframe tbody tr th {\n",
       "        vertical-align: top;\n",
       "    }\n",
       "\n",
       "    .dataframe thead th {\n",
       "        text-align: right;\n",
       "    }\n",
       "</style>\n",
       "<table border=\"1\" class=\"dataframe\">\n",
       "  <thead>\n",
       "    <tr style=\"text-align: right;\">\n",
       "      <th></th>\n",
       "      <th>ID</th>\n",
       "      <th>N_VICTIMAS</th>\n",
       "      <th>FECHA</th>\n",
       "      <th>AAAA</th>\n",
       "      <th>MM</th>\n",
       "      <th>DD</th>\n",
       "      <th>HORA</th>\n",
       "      <th>HH</th>\n",
       "      <th>LUGAR_DEL_HECHO</th>\n",
       "      <th>TIPO_DE_CALLE</th>\n",
       "      <th>...</th>\n",
       "      <th>ALTURA</th>\n",
       "      <th>CRUCE</th>\n",
       "      <th>DIRECCIÓN NORMALIZADA</th>\n",
       "      <th>COMUNA</th>\n",
       "      <th>XY (CABA)</th>\n",
       "      <th>POS X</th>\n",
       "      <th>POS Y</th>\n",
       "      <th>PARTICIPANTES</th>\n",
       "      <th>VICTIMA</th>\n",
       "      <th>ACUSADO</th>\n",
       "    </tr>\n",
       "  </thead>\n",
       "  <tbody>\n",
       "    <tr>\n",
       "      <th>0</th>\n",
       "      <td>2016-0001</td>\n",
       "      <td>1</td>\n",
       "      <td>01/01/2016</td>\n",
       "      <td>2016</td>\n",
       "      <td>1</td>\n",
       "      <td>1</td>\n",
       "      <td>04:00:00</td>\n",
       "      <td>4</td>\n",
       "      <td>AV PIEDRA BUENA Y AV FERNANDEZ DE LA CRUZ</td>\n",
       "      <td>AVENIDA</td>\n",
       "      <td>...</td>\n",
       "      <td>SD</td>\n",
       "      <td>FERNANDEZ DE LA CRUZ, F., GRAL. AV.</td>\n",
       "      <td>PIEDRA BUENA AV. Y FERNANDEZ DE LA CRUZ, F., G...</td>\n",
       "      <td>8</td>\n",
       "      <td>POINT (98896.78238426 93532.43437792)</td>\n",
       "      <td>-58.47533969</td>\n",
       "      <td>-34.68757022</td>\n",
       "      <td>MOTO-AUTO</td>\n",
       "      <td>MOTO</td>\n",
       "      <td>AUTO</td>\n",
       "    </tr>\n",
       "    <tr>\n",
       "      <th>1</th>\n",
       "      <td>2016-0002</td>\n",
       "      <td>1</td>\n",
       "      <td>02/01/2016</td>\n",
       "      <td>2016</td>\n",
       "      <td>1</td>\n",
       "      <td>2</td>\n",
       "      <td>01:15:00</td>\n",
       "      <td>1</td>\n",
       "      <td>AV GRAL PAZ  Y AV DE LOS CORRALES</td>\n",
       "      <td>GRAL PAZ</td>\n",
       "      <td>...</td>\n",
       "      <td>SD</td>\n",
       "      <td>DE LOS CORRALES AV.</td>\n",
       "      <td>PAZ, GRAL. AV. Y DE LOS CORRALES AV.</td>\n",
       "      <td>9</td>\n",
       "      <td>POINT (95832.05571093 95505.41641999)</td>\n",
       "      <td>-58.50877521</td>\n",
       "      <td>-34.66977709</td>\n",
       "      <td>AUTO-PASAJEROS</td>\n",
       "      <td>AUTO</td>\n",
       "      <td>PASAJEROS</td>\n",
       "    </tr>\n",
       "    <tr>\n",
       "      <th>2</th>\n",
       "      <td>2016-0003</td>\n",
       "      <td>1</td>\n",
       "      <td>03/01/2016</td>\n",
       "      <td>2016</td>\n",
       "      <td>1</td>\n",
       "      <td>3</td>\n",
       "      <td>07:00:00</td>\n",
       "      <td>7</td>\n",
       "      <td>AV ENTRE RIOS 2034</td>\n",
       "      <td>AVENIDA</td>\n",
       "      <td>...</td>\n",
       "      <td>2034</td>\n",
       "      <td>SD</td>\n",
       "      <td>ENTRE RIOS AV. 2034</td>\n",
       "      <td>1</td>\n",
       "      <td>POINT (106684.29090040 99706.57687843)</td>\n",
       "      <td>-58.39040293</td>\n",
       "      <td>-34.63189362</td>\n",
       "      <td>MOTO-AUTO</td>\n",
       "      <td>MOTO</td>\n",
       "      <td>AUTO</td>\n",
       "    </tr>\n",
       "  </tbody>\n",
       "</table>\n",
       "<p>3 rows × 21 columns</p>\n",
       "</div>"
      ],
      "text/plain": [
       "          ID  N_VICTIMAS       FECHA  AAAA  MM  DD      HORA HH  \\\n",
       "0  2016-0001           1  01/01/2016  2016   1   1  04:00:00  4   \n",
       "1  2016-0002           1  02/01/2016  2016   1   2  01:15:00  1   \n",
       "2  2016-0003           1  03/01/2016  2016   1   3  07:00:00  7   \n",
       "\n",
       "                             LUGAR_DEL_HECHO TIPO_DE_CALLE  ... ALTURA  \\\n",
       "0  AV PIEDRA BUENA Y AV FERNANDEZ DE LA CRUZ       AVENIDA  ...     SD   \n",
       "1          AV GRAL PAZ  Y AV DE LOS CORRALES      GRAL PAZ  ...     SD   \n",
       "2                         AV ENTRE RIOS 2034       AVENIDA  ...   2034   \n",
       "\n",
       "                                 CRUCE  \\\n",
       "0  FERNANDEZ DE LA CRUZ, F., GRAL. AV.   \n",
       "1                  DE LOS CORRALES AV.   \n",
       "2                                   SD   \n",
       "\n",
       "                               DIRECCIÓN NORMALIZADA COMUNA  \\\n",
       "0  PIEDRA BUENA AV. Y FERNANDEZ DE LA CRUZ, F., G...      8   \n",
       "1               PAZ, GRAL. AV. Y DE LOS CORRALES AV.      9   \n",
       "2                                ENTRE RIOS AV. 2034      1   \n",
       "\n",
       "                                XY (CABA)         POS X         POS Y  \\\n",
       "0   POINT (98896.78238426 93532.43437792)  -58.47533969  -34.68757022   \n",
       "1   POINT (95832.05571093 95505.41641999)  -58.50877521  -34.66977709   \n",
       "2  POINT (106684.29090040 99706.57687843)  -58.39040293  -34.63189362   \n",
       "\n",
       "    PARTICIPANTES VICTIMA    ACUSADO  \n",
       "0       MOTO-AUTO    MOTO       AUTO  \n",
       "1  AUTO-PASAJEROS    AUTO  PASAJEROS  \n",
       "2       MOTO-AUTO    MOTO       AUTO  \n",
       "\n",
       "[3 rows x 21 columns]"
      ]
     },
     "execution_count": 13,
     "metadata": {},
     "output_type": "execute_result"
    }
   ],
   "source": [
    "# Visualizo los cambios\n",
    "df_homicidios.head(3)"
   ]
  },
  {
   "cell_type": "code",
   "execution_count": 14,
   "metadata": {},
   "outputs": [
    {
     "name": "stdout",
     "output_type": "stream",
     "text": [
      "<class 'pandas.core.frame.DataFrame'>\n",
      "RangeIndex: 696 entries, 0 to 695\n",
      "Data columns (total 21 columns):\n",
      " #   Column                 Non-Null Count  Dtype \n",
      "---  ------                 --------------  ----- \n",
      " 0   ID                     696 non-null    object\n",
      " 1   N_VICTIMAS             696 non-null    int64 \n",
      " 2   FECHA                  696 non-null    object\n",
      " 3   AAAA                   696 non-null    int64 \n",
      " 4   MM                     696 non-null    int64 \n",
      " 5   DD                     696 non-null    int64 \n",
      " 6   HORA                   694 non-null    object\n",
      " 7   HH                     696 non-null    object\n",
      " 8   LUGAR_DEL_HECHO        696 non-null    object\n",
      " 9   TIPO_DE_CALLE          696 non-null    object\n",
      " 10  CALLE                  696 non-null    object\n",
      " 11  ALTURA                 696 non-null    object\n",
      " 12  CRUCE                  696 non-null    object\n",
      " 13  DIRECCIÓN NORMALIZADA  696 non-null    object\n",
      " 14  COMUNA                 696 non-null    int64 \n",
      " 15  XY (CABA)              696 non-null    object\n",
      " 16  POS X                  696 non-null    object\n",
      " 17  POS Y                  696 non-null    object\n",
      " 18  PARTICIPANTES          696 non-null    object\n",
      " 19  VICTIMA                696 non-null    object\n",
      " 20  ACUSADO                696 non-null    object\n",
      "dtypes: int64(5), object(16)\n",
      "memory usage: 114.3+ KB\n"
     ]
    }
   ],
   "source": [
    "df_homicidios.info()"
   ]
  },
  {
   "cell_type": "code",
   "execution_count": 53,
   "metadata": {},
   "outputs": [
    {
     "name": "stdout",
     "output_type": "stream",
     "text": [
      "Años únicos en la columna 'FECHA': [2016. 2017. 2018. 2019. 2020. 2021.]\n"
     ]
    }
   ],
   "source": [
    "if 'FECHA' in df_homicidios.columns:\n",
    "    # Convertir la columna 'FECHA' a formato datetime\n",
    "    df_homicidios['FECHA'] = pd.to_datetime(df_homicidios['FECHA'], errors='coerce')\n",
    "\n",
    "    # Extraer los años de la columna 'FECHA'\n",
    "    df_homicidios['AÑO'] = df_homicidios['FECHA'].dt.year\n",
    "\n",
    "    # Obtener los años únicos\n",
    "    años_unicos = df_homicidios['AÑO'].dropna().unique()  # dropna() elimina valores NaN\n",
    "\n",
    "    # Imprimir los años únicos\n",
    "    print(\"Años únicos en la columna 'FECHA':\", años_unicos)\n",
    "else:\n",
    "    print(\"La columna 'FECHA' no se encuentra en el DataFrame.\")"
   ]
  },
  {
   "cell_type": "markdown",
   "metadata": {},
   "source": [
    "Guardo todos los cambios en un nuevo archivo csv"
   ]
  },
  {
   "cell_type": "code",
   "execution_count": 34,
   "metadata": {},
   "outputs": [],
   "source": [
    "ruta_guardado = 'F:\\BACKUP 2023\\Delfina\\PI2_DA_SiniestrosViales_Delfina\\datasets\\homicidios.csv'\n",
    "\n",
    "# Guardo el DataFrame en un archivo CSV para luego importarlo a Looker Studio\n",
    "df_homicidios.to_csv(ruta_guardado, index=False)"
   ]
  },
  {
   "cell_type": "markdown",
   "metadata": {},
   "source": [
    "Guardo el archivo de poblacion en un csv"
   ]
  },
  {
   "cell_type": "code",
   "execution_count": 40,
   "metadata": {},
   "outputs": [],
   "source": [
    "#Cargo ruta del archivo en una variable\n",
    "poblacion_excel = 'F:\\BACKUP 2023\\Delfina\\PI2_DA_SiniestrosViales_Delfina\\datasets\\poblacion.xlsx'\n",
    "\n",
    "# Cargo el archivo de Excel en un DataFrame de Pandas\n",
    "df_poblacion = pd.read_excel(poblacion_excel)"
   ]
  },
  {
   "cell_type": "code",
   "execution_count": 41,
   "metadata": {},
   "outputs": [
    {
     "data": {
      "text/html": [
       "<div>\n",
       "<style scoped>\n",
       "    .dataframe tbody tr th:only-of-type {\n",
       "        vertical-align: middle;\n",
       "    }\n",
       "\n",
       "    .dataframe tbody tr th {\n",
       "        vertical-align: top;\n",
       "    }\n",
       "\n",
       "    .dataframe thead th {\n",
       "        text-align: right;\n",
       "    }\n",
       "</style>\n",
       "<table border=\"1\" class=\"dataframe\">\n",
       "  <thead>\n",
       "    <tr style=\"text-align: right;\">\n",
       "      <th></th>\n",
       "      <th>Comuna</th>\n",
       "      <th>2016</th>\n",
       "      <th>2017</th>\n",
       "      <th>2018</th>\n",
       "      <th>2019</th>\n",
       "      <th>2020</th>\n",
       "      <th>2021</th>\n",
       "    </tr>\n",
       "  </thead>\n",
       "  <tbody>\n",
       "    <tr>\n",
       "      <th>0</th>\n",
       "      <td>1</td>\n",
       "      <td>252053</td>\n",
       "      <td>253271</td>\n",
       "      <td>254408</td>\n",
       "      <td>255457</td>\n",
       "      <td>256405</td>\n",
       "      <td>257235</td>\n",
       "    </tr>\n",
       "    <tr>\n",
       "      <th>1</th>\n",
       "      <td>2</td>\n",
       "      <td>149848</td>\n",
       "      <td>149720</td>\n",
       "      <td>149607</td>\n",
       "      <td>149510</td>\n",
       "      <td>149430</td>\n",
       "      <td>149371</td>\n",
       "    </tr>\n",
       "    <tr>\n",
       "      <th>2</th>\n",
       "      <td>3</td>\n",
       "      <td>192573</td>\n",
       "      <td>192763</td>\n",
       "      <td>192945</td>\n",
       "      <td>193115</td>\n",
       "      <td>193276</td>\n",
       "      <td>193425</td>\n",
       "    </tr>\n",
       "    <tr>\n",
       "      <th>3</th>\n",
       "      <td>4</td>\n",
       "      <td>238303</td>\n",
       "      <td>238809</td>\n",
       "      <td>239279</td>\n",
       "      <td>239712</td>\n",
       "      <td>240100</td>\n",
       "      <td>240437</td>\n",
       "    </tr>\n",
       "    <tr>\n",
       "      <th>4</th>\n",
       "      <td>5</td>\n",
       "      <td>186740</td>\n",
       "      <td>186956</td>\n",
       "      <td>187159</td>\n",
       "      <td>187348</td>\n",
       "      <td>187518</td>\n",
       "      <td>187670</td>\n",
       "    </tr>\n",
       "  </tbody>\n",
       "</table>\n",
       "</div>"
      ],
      "text/plain": [
       "   Comuna    2016    2017    2018    2019    2020    2021\n",
       "0       1  252053  253271  254408  255457  256405  257235\n",
       "1       2  149848  149720  149607  149510  149430  149371\n",
       "2       3  192573  192763  192945  193115  193276  193425\n",
       "3       4  238303  238809  239279  239712  240100  240437\n",
       "4       5  186740  186956  187159  187348  187518  187670"
      ]
     },
     "execution_count": 41,
     "metadata": {},
     "output_type": "execute_result"
    }
   ],
   "source": [
    "df_poblacion.head()"
   ]
  },
  {
   "cell_type": "code",
   "execution_count": 42,
   "metadata": {},
   "outputs": [
    {
     "name": "stdout",
     "output_type": "stream",
     "text": [
      "<class 'pandas.core.frame.DataFrame'>\n",
      "RangeIndex: 15 entries, 0 to 14\n",
      "Data columns (total 7 columns):\n",
      " #   Column  Non-Null Count  Dtype\n",
      "---  ------  --------------  -----\n",
      " 0   Comuna  15 non-null     int64\n",
      " 1   2016    15 non-null     int64\n",
      " 2   2017    15 non-null     int64\n",
      " 3   2018    15 non-null     int64\n",
      " 4   2019    15 non-null     int64\n",
      " 5   2020    15 non-null     int64\n",
      " 6   2021    15 non-null     int64\n",
      "dtypes: int64(7)\n",
      "memory usage: 968.0 bytes\n"
     ]
    }
   ],
   "source": [
    "df_poblacion.info()"
   ]
  },
  {
   "cell_type": "code",
   "execution_count": 38,
   "metadata": {},
   "outputs": [],
   "source": [
    "ruta_guardado_p = 'F:\\BACKUP 2023\\Delfina\\PI2_DA_SiniestrosViales_Delfina\\datasets\\poblacion.csv'\n",
    "\n",
    "# Guardar el DataFrame en un archivo CSV para luego importarlo a Looker Studio\n",
    "df_poblacion.to_csv(ruta_guardado_p, index=False)"
   ]
  }
 ],
 "metadata": {
  "kernelspec": {
   "display_name": "Python 3",
   "language": "python",
   "name": "python3"
  },
  "language_info": {
   "codemirror_mode": {
    "name": "ipython",
    "version": 3
   },
   "file_extension": ".py",
   "mimetype": "text/x-python",
   "name": "python",
   "nbconvert_exporter": "python",
   "pygments_lexer": "ipython3",
   "version": "3.10.0"
  }
 },
 "nbformat": 4,
 "nbformat_minor": 2
}
